{
 "cells": [
  {
   "cell_type": "markdown",
   "metadata": {},
   "source": [
    "# Medical image IO\n",
    "---\n",
    "Loading or writing medical images by simpleITK \n",
    "\n",
    "Available file types are :\n",
    "- .nii, .nii.gz\n",
    "- .nrrd\n",
    "- .dcm [Dicom folder]"
   ]
  },
  {
   "cell_type": "code",
   "execution_count": null,
   "metadata": {},
   "outputs": [],
   "source": [
    "import time \n",
    "import numpy as np\n",
    "import SimpleITK as sitk\n",
    "import glob\n",
    "import os"
   ]
  },
  {
   "cell_type": "code",
   "execution_count": null,
   "metadata": {},
   "outputs": [],
   "source": [
    "def load_nii(path):\n",
    "    \"\"\"Load .nii or .nrrd to sitk image\"\"\"\n",
    "    filetype = path.split(\"\\\\\")[-1].split(\".\")[-1]\n",
    "\n",
    "    \n",
    "    reader = sitk.ImageFileReader()    \n",
    "\n",
    "    if filetype == \"nii\" or \"gz\" :\n",
    "        reader.SetImageIO(\"NiftiImageIO\")\n",
    "    elif filetype == \"nrrd\"  :\n",
    "        reader.SetImageIO(\"NrrdImageIO\")\n",
    "    reader.SetFileName(path)\n",
    "\n",
    "    image = reader.Execute()\n",
    "    \n",
    "    return image, reader"
   ]
  },
  {
   "cell_type": "code",
   "execution_count": null,
   "metadata": {},
   "outputs": [],
   "source": [
    "def write(image, path):\n",
    "    \"\"\"Write medical image to .nii or .nrrd \"\"\"\n",
    "    sitk.WriteImage(image, path)"
   ]
  },
  {
   "cell_type": "code",
   "execution_count": null,
   "metadata": {},
   "outputs": [],
   "source": [
    "def load_dicom(path):\n",
    "    \"\"\"Load dicom files to sitk image\"\"\"\n",
    "    \n",
    "    reader = sitk.ImageSeriesReader()\n",
    "    dicom_names = reader.GetGDCMSeriesFileNames(path)\n",
    "    reader.SetFileNames(dicom_names)\n",
    "    \n",
    "    # Configure the reader to load all of the DICOM tags (public+private)\n",
    "    reader.MetaDataDictionaryArrayUpdateOn()\n",
    "    reader.LoadPrivateTagsOn()\n",
    "    \n",
    "    image = reader.Execute()\n",
    "\n",
    "    return image, reader"
   ]
  },
  {
   "cell_type": "code",
   "execution_count": null,
   "metadata": {},
   "outputs": [],
   "source": [
    "def write_dicom(image, reader, path):\n",
    "    \"\"\"Write medical image to dicom\"\"\"\n",
    "    \n",
    "    if not os.path.exists(path):\n",
    "         os.makedirs(path)\n",
    "    \n",
    "    writer = sitk.ImageFileWriter()\n",
    "    \n",
    "    # Use the study/series/frame of reference information given in the meta-data dictionary\n",
    "    writer.KeepOriginalImageUIDOn()\n",
    "    \n",
    "    # Copy relevant tags from the original meta-data dictionary \n",
    "    tags_to_copy = [\"0010|0010\",  # Patient Name\n",
    "                    \"0010|0020\",  # Patient ID\n",
    "                    \"0010|0030\",  # Patient Birth Date\n",
    "                    \"0020|000D\",  # Study Instance UID, for machine consumption\n",
    "                    \"0020|0010\",  # Study ID, for human consumption\n",
    "                    \"0008|0020\",  # Study Date\n",
    "                    \"0008|0030\",  # Study Time\n",
    "                    \"0008|0050\",  # Accession Number\n",
    "                    \"0008|0060\"  # Modality\n",
    "                    ]\n",
    "    \n",
    "    modification_time = time.strftime(\"%H%M%S\")\n",
    "    modification_date = time.strftime(\"%Y%m%d\")\n",
    "    \n",
    "    # Copy some of the tags and add the relevant tags indicating the change.\n",
    "    # For the series instance UID (0020|000e), each of the components is a number,\n",
    "    # cannot start with zero, and separated by a '.' We create a unique series ID\n",
    "    # using the date and time.\n",
    "    # Tags of interest:\n",
    "    direction = image.GetDirection()\n",
    "    series_tag_values = [ (k, reader.GetMetaData(k) ) for k in tags_to_copy if reader.HasMetaDataKey(k) ] + [  \n",
    "    (\"0008|0031\", modification_time),  # Series Time\n",
    "    (\"0008|0021\", modification_date),  # Series Date\n",
    "    (\"0008|0008\", \"DERIVED\\\\SECONDARY\"),  # Image Type\n",
    "    (\"0020|000e\", \"1.2.826.0.1.3680043.2.1125.\" + modification_date + \".1\" + modification_time), # Series Instance UID\n",
    "    (\"0020|0037\", '\\\\'.join(map(str, (direction[0], direction[3], direction[6], direction[1], direction[4],direction[7])))),  # Image Orientation (Patient)\n",
    "    (\"0008|103e\",  reader.GetMetaData(\"0008|103e\") +  \"Processed-SimpleITK\" if reader.HasMetaDataKey((\"0008|103e\")) else \"Processed-SimpleITK\" ) # Series Description\n",
    "    ]  \n",
    "    \n",
    "    for i in range(image.GetDepth()):\n",
    "        \n",
    "        image_slice = image[:, :, i]\n",
    "        \n",
    "        # Tags shared by the series.\n",
    "        for tag, value in series_tag_values:\n",
    "            image_slice.SetMetaData(tag, value)\n",
    "        # Slice specific tags.\n",
    "        #   Instance Creation Date\n",
    "        image_slice.SetMetaData(\"0008|0012\", modification_date)\n",
    "        #   Instance Creation Time\n",
    "        image_slice.SetMetaData(\"0008|0013\",  modification_time)\n",
    "        #   Image Position (Patient)\n",
    "        image_slice.SetMetaData(\"0020|0032\", '\\\\'.join(map(str, image.TransformIndexToPhysicalPoint((0, 0, i)))))\n",
    "        #   Instace Number\n",
    "        image_slice.SetMetaData(\"0020|0013\", str(i))\n",
    "\n",
    "        # Write to the output directory and add the extension dcm, to force writing\n",
    "        # in DICOM format.\n",
    "        writer.SetFileName(os.path.join(path, str(i) + '.dcm'))\n",
    "        writer.Execute(image_slice)"
   ]
  },
  {
   "cell_type": "markdown",
   "metadata": {},
   "source": [
    "### Example : covert image types form nii to dicom"
   ]
  },
  {
   "cell_type": "code",
   "execution_count": null,
   "metadata": {},
   "outputs": [],
   "source": [
    "root_dir = 'Root dir of source & target dir'
    "source_dir = 'Name of dir that .nii files exist'\n",
    "target_dir = 'Name of dirr  to save dicom folders '\n",
    "\n",
    "sub_path_list = sorted(glob.glob(os.path.join(root_dir, 'source_dir', '*.nii')))\n",
    "\n",
    "for sub_path in sub_path_list:\n",
    "    \n",
    "    try:\n",
    "        \n",
    "        sub_name = sub_path.split(\"\\\\\")[-1]#.split(\"_\")[0]\n",
    "        image, reader = load_nii(sub_path)\n",
    "        \n",
    "        # Convert floating type image (imgSmooth) to int type (imgFiltered)\n",
    "        # This command solves error ->vitk::ERROR: GDCMImageIO(00000188AED06AF0): A Floating point buffer was passed but the stored pixel type was not specified.This is currently not supported\n",
    "        castFilter = sitk.CastImageFilter()\n",
    "        castFilter.SetOutputPixelType(sitk.sitkInt16)\n",
    "        image = castFilter.Execute(image)\n",
    "\n",
    "        write_dicom(image, reader, os.path.join(root_dir, target_dir ,sub_name))\n",
    "\n",
    "    except Exception as e: \n",
    "        print(e)\n",
    "        print(sub_path, 'wrong')\n",
    "        continue\n",
    "        "
   ]
  },
  {
   "cell_type": "code",
   "execution_count": null,
   "metadata": {},
   "outputs": [],
   "source": []
  }
 ],
 "metadata": {
  "kernelspec": {
   "display_name": "Python 3",
   "language": "python",
   "name": "python3"
  },
  "language_info": {
   "codemirror_mode": {
    "name": "ipython",
    "version": 3
   },
   "file_extension": ".py",
   "mimetype": "text/x-python",
   "name": "python",
   "nbconvert_exporter": "python",
   "pygments_lexer": "ipython3",
   "version": "3.7.7"
  }
 },
 "nbformat": 4,
 "nbformat_minor": 4
}
