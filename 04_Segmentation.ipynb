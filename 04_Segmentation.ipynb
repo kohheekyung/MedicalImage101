{
 "cells": [
  {
   "cell_type": "markdown",
   "id": "32907d72-2234-42c8-8ca7-199da8cb7513",
   "metadata": {},
   "source": [
    "## Segmentation using Slicer \n",
    "\n",
    "Segmentation Editor example using segmentation editor\n",
    "perform segmentation on volume node "
   ]
  },
  {
   "cell_type": "code",
   "execution_count": null,
   "id": "9d5cbed7-24de-4348-8369-5e6b13e86ec0",
   "metadata": {},
   "outputs": [],
   "source": [
    "import os\n",
    "import vtk, qt, ctk, slicer"
   ]
  },
  {
   "cell_type": "code",
   "execution_count": null,
   "id": "8a38c5c6-5ec9-4490-b0b1-dc41b30f57b2",
   "metadata": {},
   "outputs": [],
   "source": [
    "# Get VolumeNode\n",
    "volumeNode = slicer.util.getNode('Node name')\n",
    "\n",
    "# Create segmentation\n",
    "segmentationNode = slicer.mrmlScene.AddNewNodeByClass(\"vtkMRMLSegmentationNode\")\n",
    "segmentationNode.CreateDefaultDisplayNodes() # only needed for display\n",
    "segmentationNode.SetReferenceImageGeometryParameterFromVolumeNode(volumeNode)\n",
    "addedSegmentID = segmentationNode.GetSegmentation().AddEmptySegment('Node name' + \"_segment\")\n",
    "   \n",
    "# Create segment editor to get access to effects\n",
    "segmentEditorWidget = slicer.qMRMLSegmentEditorWidget()\n",
    "segmentEditorWidget.setMRMLScene(slicer.mrmlScene)\n",
    "segmentEditorNode = slicer.mrmlScene.AddNewNodeByClass(\"vtkMRMLSegmentEditorNode\")\n",
    "segmentEditorWidget.setMRMLSegmentEditorNode(segmentEditorNode)\n",
    "segmentEditorWidget.setSegmentationNode(segmentationNode)\n",
    "segmentEditorWidget.setMasterVolumeNode(volumeNode)\n",
    "\n",
    "# Thresholding\n",
    "segmentEditorWidget.setActiveEffectByName(\"Threshold\")\n",
    "effect = segmentEditorWidget.activeEffect()\n",
    "effect.setParameter(\"MinimumThreshold\", -100)\n",
    "#effect.setParameter(\"MaximumThreshold\", self.thresholdMax)\n",
    "effect.self().onApply()\n",
    "\n",
    "# Islands\n",
    "segmentEditorWidget.setActiveEffectByName(\"Islands\")\n",
    "effect = segmentEditorWidget.activeEffect()\n",
    "effect.setParameter(\"Operation\", \"KEEP_LARGEST_ISLAND\")            \n",
    "effect.self().onApply()\n",
    "\n",
    "#Erode\n",
    "segmentEditorWidget.setActiveEffectByName(\"Margin\")\n",
    "effect = segmentEditorWidget.activeEffect()\n",
    "effect.setParameter(\"MarginSizeMm\", -1.00)            \n",
    "effect.self().onApply()\n",
    "\n",
    "#Dialate\n",
    "segmentEditorWidget.setActiveEffectByName(\"Margin\")\n",
    "effect = segmentEditorWidget.activeEffect()\n",
    "effect.setParameter(\"MarginSizeMm\", 1.00)            \n",
    "effect.self().onApply()\n",
    "\n",
    "#HoleFilling\n",
    "segmentEditorWidget.setActiveEffectByName(\"Smoothing\")\n",
    "effect = segmentEditorWidget.activeEffect()\n",
    "effect.setParameter(\"SmoothingMethod\", \"CLOSING\")\n",
    "effect.setParameter(\"KernalSizeMm\", self.holeFill)\n",
    "effect.self().onApply()\n",
    "\n",
    "# Smoothing\n",
    "segmentEditorWidget.setActiveEffectByName(\"Smoothing\")\n",
    "effect = segmentEditorWidget.activeEffect()\n",
    "effect.setParameter(\"SmoothingMethod\", \"MEDIAN\")\n",
    "effect.setParameter(\"KernelSizeMm\", 3)\n",
    "effect.self().onApply()"
   ]
  },
  {
   "cell_type": "markdown",
   "id": "555ee080-659f-4dd7-8b92-89eced3252d6",
   "metadata": {},
   "source": [
    "## Segmentation using openCV\n",
    "\n",
    "perform segmentation on numpy array"
   ]
  },
  {
   "cell_type": "code",
   "execution_count": null,
   "id": "333f83a1-54ec-414e-839f-0416bbbffb29",
   "metadata": {},
   "outputs": [],
   "source": [
    "import cv2\n",
    "from scipy import ndimage\n",
    "import numpy as np"
   ]
  },
  {
   "cell_type": "code",
   "execution_count": null,
   "id": "4fc20f20-139d-430a-9e22-779b8782ba73",
   "metadata": {},
   "outputs": [],
   "source": [
    "# threshold \n",
    "ret, img_th = cv2.threshold(arr, threshold, 1, 0)\n",
    "\n",
    "# remain largest region\n",
    "label_im, nb_labels = ndimage.label(img_th)\n",
    "sizes = ndimage.sum(img_th, label_im, range(nb_labels + 1))\n",
    "mask = sizes == np.max(sizes)\n",
    "label_img = mask[label_im]\n",
    "\n",
    "kernel = np.ones((3, 3), np.uint8)\n",
    "#MORPH_OPEN\n",
    "open_volume = cv2.morphologyEx(np.array(label_img).astype(np.uint8), cv2.MORPH_OPEN, kernel)\n",
    "\n",
    "#MORPH_Close\n",
    "closed_volume = cv2.morphologyEx(open_volume, cv2.MORPH_CLOSE, kernel)\n",
    "\n",
    "# fill holes \n",
    "temp = np.zeros_like(label_img)\n",
    "for idx in range(closed_volume.shape[0]):\n",
    "    closed_slice = closed_volume[idx, :, :]\n",
    "    mask_slice = ndimage.morphology.binary_fill_holes(closed_slice)\n",
    "    temp[idx, :, :] = mask_slice\n",
    "\n",
    "# Erode\n",
    "temp = ndimage.binary_erosion(temp)\n",
    "mask_volume = np.array(temp)\n"
   ]
  }
 ],
 "metadata": {
  "kernelspec": {
   "display_name": "Python 3 (ipykernel)",
   "language": "python",
   "name": "python3"
  },
  "language_info": {
   "codemirror_mode": {
    "name": "ipython",
    "version": 3
   },
   "file_extension": ".py",
   "mimetype": "text/x-python",
   "name": "python",
   "nbconvert_exporter": "python",
   "pygments_lexer": "ipython3",
   "version": "3.7.11"
  }
 },
 "nbformat": 4,
 "nbformat_minor": 5
}
