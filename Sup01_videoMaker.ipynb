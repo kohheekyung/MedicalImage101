{
 "cells": [
  {
   "cell_type": "markdown",
   "id": "0921c187-9e19-4236-b9d5-1096f4661cef",
   "metadata": {},
   "source": [
    "# Supplement 01 : Video Maker\n",
    "---\n",
    "Make a .gif or .mp4  file from png files  \n",
    "This is useful to animate your figures."
   ]
  },
  {
   "cell_type": "markdown",
   "id": "9eaebf72-c521-4228-8cb0-1be2af233be1",
   "metadata": {},
   "source": [
    "### prerequisite : unified size of images\n",
    "If the image size is different, the image size should be unified to prevent any error."
   ]
  },
  {
   "cell_type": "code",
   "execution_count": null,
   "id": "d2a1e26a-a994-4f75-865f-ccecad302c77",
   "metadata": {},
   "outputs": [],
   "source": [
    "from PIL import Image\n",
    "import cv2\n",
    "result = []\n",
    "for idx , path in enumerate(paths) :\n",
    "    img = cv2.imread(path)\n",
    "    img = cv2.resize(img , (1049, 685) , interpolation = cv2.INTER_AREA)\n",
    "    result.append(img)\n",
    "    name = path.split(\".jpg\")[0]\n",
    "    cv2.imwrite(f'./pngs/{name}.png' , img)    "
   ]
  },
  {
   "cell_type": "markdown",
   "id": "7ea1e850-3bc5-4984-91d6-cfbd13bf563d",
   "metadata": {},
   "source": [
    "### pngs 2 gif\n",
    "\n",
    "fps may alter the speed of gif animation."
   ]
  },
  {
   "cell_type": "code",
   "execution_count": null,
   "id": "a45cb8da-0182-4ecc-ac26-083b28f38d6c",
   "metadata": {},
   "outputs": [],
   "source": [
    "import matplotlib.pyplot as plt\n",
    "import numpy as np\n",
    "import imageio\n",
    "import os\n",
    "from PIL import Image\n",
    "import matplotlib.image as mpimg\n",
    "\n",
    "path = [f\"./pngs/{i}\" for i in os.listdir(\"./pngs\")] # path list of all png files in ./pngs\n",
    "paths = [ Image.open(i) for i in path] # all png loaded list files\n",
    "\n",
    "imageio.mimsave('./output.gif', paths, fps=1)"
   ]
  },
  {
   "cell_type": "markdown",
   "id": "ad09004f-42c0-4933-a48c-0d146767bead",
   "metadata": {},
   "source": [
    "### pngs 2 mp4\n",
    "\n",
    "fps may alter the speed of mp4 animation"
   ]
  },
  {
   "cell_type": "code",
   "execution_count": 7,
   "id": "050635e1-021f-442a-8b5d-5e806694531e",
   "metadata": {},
   "outputs": [],
   "source": [
    "import glob\n",
    "import cv2\n",
    "\n",
    "\n",
    "pathIn= sorted(glob.glob('./pngs/*.png')) # path list of all png files in ./pngs\n",
    "pathOut = './output.mp4'\n",
    "\n",
    "fps = 5\n",
    "frame_array = []\n",
    "\n",
    "for idx , path in enumerate(pathIn) :\n",
    "    \n",
    "    # This command would omit images of even number  \n",
    "    #     if (idx % 2 == 0) :\n",
    "    #         continue\n",
    "    img = cv2.imread(path)\n",
    "    height, width, layers = img.shape\n",
    "    size = (width,height)\n",
    "    \n",
    "    frame_array.append(img)   \n",
    "    \n",
    "out = cv2.VideoWriter(pathOut,cv2.VideoWriter_fourcc(*'DIVX'), fps, size)\n",
    "for i in range(len(frame_array)):\n",
    "    # writing to a image array\n",
    "    out.write(frame_array[i])\n",
    "out.release()"
   ]
  },
  {
   "cell_type": "code",
   "execution_count": null,
   "id": "2104b915-90f0-4402-a657-bb1fe36890d8",
   "metadata": {},
   "outputs": [],
   "source": []
  }
 ],
 "metadata": {
  "kernelspec": {
   "display_name": "Python 3 (ipykernel)",
   "language": "python",
   "name": "python3"
  },
  "language_info": {
   "codemirror_mode": {
    "name": "ipython",
    "version": 3
   },
   "file_extension": ".py",
   "mimetype": "text/x-python",
   "name": "python",
   "nbconvert_exporter": "python",
   "pygments_lexer": "ipython3",
   "version": "3.7.11"
  }
 },
 "nbformat": 4,
 "nbformat_minor": 5
}
